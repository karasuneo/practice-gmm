{
 "cells": [
  {
   "cell_type": "code",
   "execution_count": 8,
   "metadata": {},
   "outputs": [],
   "source": [
    "import numpy as np\n",
    "import matplotlib.pyplot as plt\n",
    "from sklearn.mixture import GaussianMixture"
   ]
  },
  {
   "cell_type": "code",
   "execution_count": 9,
   "metadata": {},
   "outputs": [
    {
     "name": "stdout",
     "output_type": "stream",
     "text": [
      "[[-89.61119711 -89.60049667 -89.58981053 ... -89.97687915 -89.98841314\n",
      "  -89.99996145]\n",
      " [-89.60477908 -89.59407836 -89.58339194 ... -89.97020235 -89.98173606\n",
      "  -89.99328409]\n",
      " [-89.59836542 -89.58766441 -89.57697771 ... -89.96352992 -89.97506335\n",
      "  -89.9866111 ]\n",
      " ...\n",
      " [-89.98664973 -89.97510761 -89.96357981 ... -89.57684485 -89.58753641\n",
      "  -89.59824228]\n",
      " [-89.99332268 -89.98178028 -89.9702522  ... -89.58325906 -89.59395033\n",
      "  -89.60465593]\n",
      " [-90.         -89.98845732 -89.97692895 ... -89.58967764 -89.60036863\n",
      "  -89.61107394]]\n"
     ]
    }
   ],
   "source": [
    "# 3000x3000の座標平面を作成\n",
    "x = np.linspace(0, 3000, 3000)\n",
    "y = np.linspace(0, 3000, 3000)\n",
    "X, Y = np.meshgrid(x, y)\n",
    "\n",
    "# 電波発信端末の座標とGMMのパラメータを設定\n",
    "transmitter_1 = [500, 500]  # 端末1の平均 (中心座標)\n",
    "transmitter_2 = [2500, 2500]  # 端末2の平均 (中心座標)\n",
    "transmitter_1 = [500, 2500]  # 端末3の平均 (中心座標)\n",
    "transmitter_2 = [2500, 500]  # 端末4の平均 (中心座標)\n",
    "covariance_matrix_1 = [[50000, 0], [0, 50000]]  # 端末1の共分散行列\n",
    "covariance_matrix_2 = [[30000, 10000], [10000, 30000]]  # 端末2の共分散行列\n",
    "covariance_matrix_1 = [[50000, 0], [0, 50000]]  # 端末3の共分散行列\n",
    "covariance_matrix_2 = [[30000, 10000], [10000, 30000]]  # 端末4の共分散行列\n",
    "weights = [0.5, 0.5]  # GMMの重み\n",
    "\n",
    "# ガウス混合モデルを初期化\n",
    "gmm = GaussianMixture(n_components=2, covariance_type=\"full\", weights_init=weights)\n",
    "\n",
    "# ガウス混合モデルを学習\n",
    "gmm.means_init = np.array([transmitter_1, transmitter_2])\n",
    "gmm.covariances_init = np.array([covariance_matrix_1, covariance_matrix_2])\n",
    "gmm.fit(np.column_stack((X.ravel(), Y.ravel())))\n",
    "\n",
    "# 各座標点での電波強度を計算\n",
    "Z = -gmm.score_samples(np.column_stack((X.ravel(), Y.ravel())))\n",
    "Z = Z.reshape(X.shape)\n",
    "\n",
    "# Zの最大値を取得\n",
    "Z_max = np.max(Z)\n",
    "\n",
    "# 実際のRSSI値にスケーリング (例: -30dBm から -90dBm の範囲)\n",
    "RSSI_max = -30  # dBm\n",
    "RSSI_min = -90  # dBm\n",
    "\n",
    "# 正規化された Z を実際のRSSI値にスケーリング\n",
    "# 中心に近づくほどRSSIが大きく（0に近く）、外側に行くほど小さく（負の値が大きく）なるようにする\n",
    "RSSI = RSSI_max + (Z / Z_max) * (RSSI_min - RSSI_max)\n",
    "\n",
    "print(RSSI)"
   ]
  },
  {
   "cell_type": "code",
   "execution_count": 6,
   "metadata": {},
   "outputs": [
    {
     "ename": "SyntaxError",
     "evalue": "invalid syntax (pylabtools.py, line 170)",
     "output_type": "error",
     "traceback": [
      "Traceback \u001b[0;36m(most recent call last)\u001b[0m:\n",
      "\u001b[0m  File \u001b[1;32m~/.local/share/virtualenvs/practice-gmm-dss7sFRe/lib/python3.11/site-packages/IPython/core/interactiveshell.py:3577\u001b[0m in \u001b[1;35mrun_code\u001b[0m\n    exec(code_obj, self.user_global_ns, self.user_ns)\u001b[0m\n",
      "\u001b[0m  Cell \u001b[1;32mIn[6], line 18\u001b[0m\n    plt.figure(figsize=(10, 8))\u001b[0m\n",
      "\u001b[0m  File \u001b[1;32m~/.local/share/virtualenvs/practice-gmm-dss7sFRe/lib/python3.11/site-packages/matplotlib/pyplot.py:1022\u001b[0m in \u001b[1;35mfigure\u001b[0m\n    manager = new_figure_manager(\u001b[0m\n",
      "\u001b[0m  File \u001b[1;32m~/.local/share/virtualenvs/practice-gmm-dss7sFRe/lib/python3.11/site-packages/matplotlib/pyplot.py:544\u001b[0m in \u001b[1;35mnew_figure_manager\u001b[0m\n    _warn_if_gui_out_of_main_thread()\u001b[0m\n",
      "\u001b[0m  File \u001b[1;32m~/.local/share/virtualenvs/practice-gmm-dss7sFRe/lib/python3.11/site-packages/matplotlib/pyplot.py:521\u001b[0m in \u001b[1;35m_warn_if_gui_out_of_main_thread\u001b[0m\n    canvas_class = cast(type[FigureCanvasBase], _get_backend_mod().FigureCanvas)\u001b[0m\n",
      "\u001b[0m  File \u001b[1;32m~/.local/share/virtualenvs/practice-gmm-dss7sFRe/lib/python3.11/site-packages/matplotlib/pyplot.py:353\u001b[0m in \u001b[1;35m_get_backend_mod\u001b[0m\n    switch_backend(rcParams._get(\"backend\"))\u001b[0m\n",
      "\u001b[0m  File \u001b[1;32m~/.local/share/virtualenvs/practice-gmm-dss7sFRe/lib/python3.11/site-packages/matplotlib/pyplot.py:410\u001b[0m in \u001b[1;35mswitch_backend\u001b[0m\n    module = backend_registry.load_backend_module(newbackend)\u001b[0m\n",
      "\u001b[0m  File \u001b[1;32m~/.local/share/virtualenvs/practice-gmm-dss7sFRe/lib/python3.11/site-packages/matplotlib/backends/registry.py:316\u001b[0m in \u001b[1;35mload_backend_module\u001b[0m\n    return importlib.import_module(module_name)\u001b[0m\n",
      "\u001b[0m  File \u001b[1;32m~/.pyenv/versions/3.11.5/lib/python3.11/importlib/__init__.py:126\u001b[0m in \u001b[1;35mimport_module\u001b[0m\n    return _bootstrap._gcd_import(name[level:], package, level)\u001b[0m\n",
      "\u001b[0m  File \u001b[1;32m<frozen importlib._bootstrap>:1204\u001b[0m in \u001b[1;35m_gcd_import\u001b[0m\n",
      "\u001b[0m  File \u001b[1;32m<frozen importlib._bootstrap>:1176\u001b[0m in \u001b[1;35m_find_and_load\u001b[0m\n",
      "\u001b[0m  File \u001b[1;32m<frozen importlib._bootstrap>:1126\u001b[0m in \u001b[1;35m_find_and_load_unlocked\u001b[0m\n",
      "\u001b[0m  File \u001b[1;32m<frozen importlib._bootstrap>:241\u001b[0m in \u001b[1;35m_call_with_frames_removed\u001b[0m\n",
      "\u001b[0m  File \u001b[1;32m<frozen importlib._bootstrap>:1204\u001b[0m in \u001b[1;35m_gcd_import\u001b[0m\n",
      "\u001b[0m  File \u001b[1;32m<frozen importlib._bootstrap>:1176\u001b[0m in \u001b[1;35m_find_and_load\u001b[0m\n",
      "\u001b[0m  File \u001b[1;32m<frozen importlib._bootstrap>:1147\u001b[0m in \u001b[1;35m_find_and_load_unlocked\u001b[0m\n",
      "\u001b[0m  File \u001b[1;32m<frozen importlib._bootstrap>:690\u001b[0m in \u001b[1;35m_load_unlocked\u001b[0m\n",
      "\u001b[0m  File \u001b[1;32m<frozen importlib._bootstrap_external>:940\u001b[0m in \u001b[1;35mexec_module\u001b[0m\n",
      "\u001b[0m  File \u001b[1;32m<frozen importlib._bootstrap>:241\u001b[0m in \u001b[1;35m_call_with_frames_removed\u001b[0m\n",
      "\u001b[0m  File \u001b[1;32m~/.local/share/virtualenvs/practice-gmm-dss7sFRe/lib/python3.11/site-packages/matplotlib_inline/__init__.py:1\u001b[0m\n    from . import backend_inline, config  # noqa\u001b[0m\n",
      "\u001b[0;36m  File \u001b[0;32m~/.local/share/virtualenvs/practice-gmm-dss7sFRe/lib/python3.11/site-packages/matplotlib_inline/backend_inline.py:15\u001b[0;36m\n\u001b[0;31m    from IPython.core.pylabtools import select_figure_formats\u001b[0;36m\n",
      "\u001b[0;36m  File \u001b[0;32m~/.local/share/virtualenvs/practice-gmm-dss7sFRe/lib/python3.11/site-packages/IPython/core/pylabtools.py:170\u001b[0;36m\u001b[0m\n\u001b[0;31m    a    fig.canvas.print_figure(bytes_io, **kw)\u001b[0m\n\u001b[0m         ^\u001b[0m\n\u001b[0;31mSyntaxError\u001b[0m\u001b[0;31m:\u001b[0m invalid syntax\n"
     ]
    }
   ],
   "source": [
    "# 指定されたRSSI値の座標を絞り込む\n",
    "target_RSSI = -60  # 絞り込みたいRSSI値 (例: -60dBm)\n",
    "tolerance = 0.5  # 許容誤差 (例: ±0.5dBm)\n",
    "\n",
    "# 絞り込み条件に合致する座標を取得\n",
    "indices = np.where(\n",
    "    (RSSI >= target_RSSI - tolerance) & (RSSI <= target_RSSI + tolerance)\n",
    ")\n",
    "filtered_coordinates = list(zip(X[indices], Y[indices]))\n",
    "\n",
    "# 座標を丸める\n",
    "rounded_coordinates = [(round(x), round(y)) for x, y in filtered_coordinates]\n",
    "\n",
    "# 重複を削除\n",
    "unique_coordinates = list(set(rounded_coordinates))\n",
    "\n",
    "# プロット\n",
    "plt.figure(figsize=(10, 8))\n",
    "plt.cont    ourf(X, Y, RSSI, cmap=\"hot\")\n",
    "plt.colorbar(label=\"RSSI (dBm)\")\n",
    "plt.scatter(\n",
    "    *zip(*unique_coordinates), color=\"blue\", marker=\"x\", label=\"Target RSSI Area\"\n",
    ")\n",
    "plt.scatter(\n",
    "    transmitter_1[0], transmitter_1[1], color=\"red\", marker=\"o\", label=\"Transmitter 1\"\n",
    ")\n",
    "plt.scatter(\n",
    "    transmitter_2[0], transmitter_2[1], color=\"green\", marker=\"o\", label=\"Transmitter 2\"\n",
    ")\n",
    "plt.xlabel(\"X座標\")\n",
    "plt.ylabel(\"Y座標\")\n",
    "plt.title(\"電波強度のヒートマップ (RSSI)\")\n",
    "plt.legend()\n",
    "plt.grid(True)\n",
    "plt.show()\n",
    "\n",
    "# 絞り込んだ座標の表示\n",
    "print(f\"指定されたRSSI値({target_RSSI}dBm)に近い座標数: {len(unique_coordinates)}\")\n",
    "if len(unique_coordinates) > 0:\n",
    "    print(\"絞り込んだ座標のサンプル:\")\n",
    "    print(unique_coordinates[:10])  # 最初の10個を表示\n",
    "else:\n",
    "    print(\"指定されたRSSI値に近い座標が見つかりませんでした。\")"
   ]
  }
 ],
 "metadata": {
  "kernelspec": {
   "display_name": "practice-gmm-dss7sFRe",
   "language": "python",
   "name": "python3"
  },
  "language_info": {
   "codemirror_mode": {
    "name": "ipython",
    "version": 3
   },
   "file_extension": ".py",
   "mimetype": "text/x-python",
   "name": "python",
   "nbconvert_exporter": "python",
   "pygments_lexer": "ipython3",
   "version": "3.11.5"
  }
 },
 "nbformat": 4,
 "nbformat_minor": 2
}
